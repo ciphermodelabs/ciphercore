{
 "cells": [
  {
   "cell_type": "code",
   "execution_count": 1,
   "metadata": {},
   "outputs": [],
   "source": [
    "import ciphercore as cc"
   ]
  },
  {
   "cell_type": "code",
   "execution_count": 2,
   "metadata": {},
   "outputs": [],
   "source": [
    "context = cc.create_context()\n",
    "graph = context.create_graph()"
   ]
  },
  {
   "cell_type": "code",
   "execution_count": 3,
   "metadata": {},
   "outputs": [
    {
     "data": {
      "text/plain": [
       "Graph[num_nodes=0]"
      ]
     },
     "execution_count": 3,
     "metadata": {},
     "output_type": "execute_result"
    }
   ],
   "source": [
    "graph"
   ]
  },
  {
   "cell_type": "code",
   "execution_count": 4,
   "metadata": {},
   "outputs": [
    {
     "data": {
      "text/plain": [
       "{\"version\":1,\"data\":\"{\\\"finalized\\\":false,\\\"graphs\\\":[{\\\"finalized\\\":false,\\\"nodes\\\":[],\\\"output_node\\\":null}],\\\"main_graph\\\":null,\\\"graphs_names\\\":[],\\\"nodes_names\\\":[],\\\"nodes_annotations\\\":[],\\\"graphs_annotations\\\":[]}\"}"
      ]
     },
     "execution_count": 4,
     "metadata": {},
     "output_type": "execute_result"
    }
   ],
   "source": [
    "context"
   ]
  },
  {
   "cell_type": "code",
   "execution_count": 5,
   "metadata": {},
   "outputs": [],
   "source": [
    "A = graph.input(cc.array_type([256, 128], cc.INT32))\n",
    "B = graph.input(cc.array_type([128, 64], cc.INT32))\n",
    "c = graph.input(cc.array_type([64], cc.INT32))"
   ]
  },
  {
   "cell_type": "code",
   "execution_count": 6,
   "metadata": {},
   "outputs": [],
   "source": [
    "res = A @ B + c"
   ]
  },
  {
   "cell_type": "code",
   "execution_count": 7,
   "metadata": {},
   "outputs": [
    {
     "data": {
      "text/plain": [
       "Node[type=i32[256, 64]]"
      ]
     },
     "execution_count": 7,
     "metadata": {},
     "output_type": "execute_result"
    }
   ],
   "source": [
    "res"
   ]
  },
  {
   "cell_type": "code",
   "execution_count": 8,
   "metadata": {},
   "outputs": [
    {
     "data": {
      "text/plain": [
       "{\"version\":1,\"data\":\"{\\\"finalized\\\":true,\\\"graphs\\\":[{\\\"finalized\\\":true,\\\"nodes\\\":[{\\\"node_dependencies\\\":[],\\\"graph_dependencies\\\":[],\\\"operation\\\":{\\\"Input\\\":{\\\"Array\\\":[[256,128],{\\\"signed\\\":true,\\\"modulus\\\":4294967296}]}}},{\\\"node_dependencies\\\":[],\\\"graph_dependencies\\\":[],\\\"operation\\\":{\\\"Input\\\":{\\\"Array\\\":[[128,64],{\\\"signed\\\":true,\\\"modulus\\\":4294967296}]}}},{\\\"node_dependencies\\\":[],\\\"graph_dependencies\\\":[],\\\"operation\\\":{\\\"Input\\\":{\\\"Array\\\":[[64],{\\\"signed\\\":true,\\\"modulus\\\":4294967296}]}}},{\\\"node_dependencies\\\":[0,1],\\\"graph_dependencies\\\":[],\\\"operation\\\":\\\"Matmul\\\"},{\\\"node_dependencies\\\":[3,2],\\\"graph_dependencies\\\":[],\\\"operation\\\":\\\"Add\\\"}],\\\"output_node\\\":4}],\\\"main_graph\\\":0,\\\"graphs_names\\\":[],\\\"nodes_names\\\":[],\\\"nodes_annotations\\\":[],\\\"graphs_annotations\\\":[]}\"}"
      ]
     },
     "execution_count": 8,
     "metadata": {},
     "output_type": "execute_result"
    }
   ],
   "source": [
    "res.set_as_output()\n",
    "graph.finalize()\n",
    "graph.set_as_main()\n",
    "context.finalize()"
   ]
  },
  {
   "cell_type": "code",
   "execution_count": null,
   "metadata": {},
   "outputs": [],
   "source": []
  }
 ],
 "metadata": {
  "kernelspec": {
   "display_name": "Python 3",
   "language": "python",
   "name": "python3"
  },
  "language_info": {
   "codemirror_mode": {
    "name": "ipython",
    "version": 3
   },
   "file_extension": ".py",
   "mimetype": "text/x-python",
   "name": "python",
   "nbconvert_exporter": "python",
   "pygments_lexer": "ipython3",
   "version": "3.10.1"
  }
 },
 "nbformat": 4,
 "nbformat_minor": 4
}
